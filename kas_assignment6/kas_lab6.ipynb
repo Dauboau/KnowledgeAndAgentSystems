{
 "cells": [
  {
   "cell_type": "markdown",
   "metadata": {},
   "source": [
    "# Bayesian Networks for Evidence Lab "
   ]
  },
  {
   "cell_type": "markdown",
   "metadata": {},
   "source": [
    "In this lab, you will investigate how Bayesian Networks can be used to reason with evidence. You can earn 60 points in total.\n",
    "\n",
    "We'll be working with the PyAgrum package. If you get stuck with the Bayesian Network, check out the following tutorial: \n",
    "https://pyagrum.readthedocs.io/en/1.9.0/notebooks/01-Tutorial.html\n",
    "\n",
    "Hand in: This notebook and a pdf version of this notebook:\n",
    "- Convert this Jupyter Notebook to PDF\n",
    "- include all images/BNs you generated, with your answers to the questions and any code you might have written\n",
    "- Make sure to add your names to both files"
   ]
  },
  {
   "cell_type": "markdown",
   "metadata": {},
   "source": [
    "# Part I: Probabilistic Reasoning (25p)\n",
    "\n",
    "## Question 1: Drunk Driving (15p)\n",
    "\n",
    "The police is interested in whether people are driving drunk. Therefore, they sometimes set up a \"fuik\", or a trap, where they block a road and test everyone that passes for drunk driving. In this case, they use a test. Like any test, this test is not perfect. If a person is drunk, the test reports positive for drunkenness 99.99% of the time. If the person is not drunk, the test reports positive for drunkenness 5% of the time. This exercise is about probabilistic reasoning in this situation.\n",
    "\n",
    "**a. Assume that 1% of drivers drives drunk. Draw a probability tree diagram representing the two relevant random variables, all probabilities, and the probabilities of every possible outcome (2p)**\n",
    "\n",
    "**b. Without calculating, do you expect that if someone tested positively, they were drunk? Why? (2p)**\n",
    "\n",
    "\n",
    "**c. What is the probability that someone is drunk, given that they tested positively? Show your calculation. Is this a higher or lower probability than you expected? (2p)**\n",
    "\n",
    "\n",
    "\n",
    "**d. What should the probability of $\\Pr(\\text{Drunk=true})$ be in order to have a 99% posterior probability or higher of the driver being drunk when they test positively? (2p)**\n",
    "\n",
    "\n",
    "**e. Given that the police cannot get access to a more accurate test, what could they do to improve their chances of catching drunk drivers and reducing the number of false positive innocent people? (2p)**\n",
    "\n",
    "\n",
    "\n",
    "**f. Using your answers to the previous questions, explain why \"base rate neglect\" can be relevant in court (5p)**\n",
    "\n",
    "\n",
    "\n",
    "## Question 2: Factorizing (10p)\n",
    "\n",
    "**We have the following joint probability distribution over $\\Pr(P, Q)$:\n",
    "$\\Pr(P=p,Q=q)=0.06, \\Pr(P=p,Q=\\neg q) = 0.04, \\Pr(P=\\neg p, Q=q) =0.72, \\Pr(P=\\neg p, Q=\\neg q) = 0.18$.**\n",
    "\n",
    "**a. From this joint distribution, calculate the conditional probability tables (CPTs) for each node, given the Bayesian Network graph $P \\rightarrow Q$. Show your work. (3p)**\n",
    "\n",
    "Hint 1: Given this structure, what are the parameters that you need to find?\n",
    "\n",
    "Hint 2: use $\\Pr(P\\mid Q)\\Pr(Q) = \\Pr(P \\land Q)$ and Bayes' Theorem.\n",
    "\n",
    "**b. Is it possible to represent this joint probability distribution in the Bayesian Network graph $Q \\rightarrow P$? If no, explain why not. If yes, show the resulting network, including CPTs. (3p)**\n",
    "\n",
    "\n",
    "**c. Is it possible to represent this joint probability distribution in the Bayesian Network graph $Q  P$? If no, explain why not. If yes, show the result. (3p)**\n",
    "\n",
    "**d.  What would be a reason to prefer one graph structure over another if both represent the same joint probability distribution? (1p)**\n",
    "\n",
    "\n",
    "\n"
   ]
  },
  {
   "cell_type": "markdown",
   "metadata": {},
   "source": [
    "# Part II: Reasoning with a Bayesian Network (35p)\n",
    "\n",
    "\n",
    "Q0: Install dependencies"
   ]
  },
  {
   "cell_type": "code",
   "execution_count": null,
   "metadata": {
    "scrolled": true
   },
   "outputs": [],
   "source": [
    "!pip3 install pyAgrum"
   ]
  },
  {
   "cell_type": "code",
   "execution_count": null,
   "metadata": {},
   "outputs": [],
   "source": [
    "# for plotting\n",
    "from pylab import *\n",
    "\n",
    "# for working with the Bayesian Network\n",
    "import pyAgrum as gum\n",
    "import pyAgrum.lib.notebook as gnb"
   ]
  },
  {
   "cell_type": "markdown",
   "metadata": {},
   "source": [
    "Run the code in the cell below and look at the resulting Bayesian Network. It represents the following story: \n",
    "\n",
    "*You've been out partying in the Poelestraat when you want to return home. You walk towards your bike, but you cannot find it. After checking around and asking your friends, you realize that your bike must have been stolen. You look up, and see that there is a camera pointing straight at where your bike should have been! Great!*\n",
    "\n",
    "*The next morning, an efficient police officer and you together go to the owner of the camera and check out the video. You see a man stealing your bike.*\n",
    "\n",
    "*The camera is not of high enough resolution to see the man's face or any identifying details, except that he's wearing a T-shirt of a popular band. You're stylish and you've seen people wearing this type of T-shirt around the city center more often. You think that last night, you saw 1000 people, and you know that 6 people were wearing that shirt on the street. The police agent says \"hey, tonight we arrested a guy in this area, called Michiel, who was wearing this exact same T-shirt at the time of his arrest! Maybe it's Michiel on the camera!*\n",
    "\n",
    "--- Modelling this story in a Bayesian Network ----\n",
    "\n",
    "We are modelling this story in a Bayesian Network in three steps.\n",
    "\n",
    "1) Creating the nodes: We use three random variables (nodes) to represent the events in the story: MichielStoleBike, CameraSeesTshirt, MichielWearsTshirt.\n",
    "\n",
    "MichielStoleBike = random variable representing the event that Michiel stole the bike.\n",
    "\n",
    "CameraSeesTshirt = random variable representing that the camera pointing at the bike registered at time $t$, a man stealing your bike who was wearing the T-shirt.\n",
    "\n",
    "MichielWearsTshirt = random variable representing that Michiel was wearing the T-shirt at time $t$.\n",
    "\n",
    "2) Creating the arcs between the nodes: We draw an arc from MichielStoleBike to CameraSeesTshirt. We draw an arc from MichielWearsTshirt to CameraSeesTshirt.\n",
    "\n",
    "\n",
    "3) Creating the probability distribution by filling in the conditional probability tables (CPTs).\n",
    "\n",
    "- $\\Pr(\\text{MichielStoleBike})$:  we assume that there were 1000 people and any of them could have done it, hence any person has a 1/1000 probability of stealing the bike, representing ignorance about the identity of the thief. So, we set $\\Pr(\\text{MichielStoleBike=True})=0.001$ (and hence, $\\Pr(\\text{MichielStoleBike=False})=0.999)$. \n",
    "\n",
    "- $\\Pr(\\text{MichielWearsTshirt})$: we do not know whether Michiel was wearing the T-shirt at the relevant time, we only know what we was wearing when he was arrested. Hence, we use an ignorance prior: $\\Pr(\\text{MichielWearsTshirt=True}) = \\Pr(\\text{MichielWearsTshirt=False}) = 0.5$.\n",
    "\n",
    "For CameraSeesTshirt, we have to specify four probabilities\n",
    "\n",
    "- For $\\Pr(\\text{CameraSeesTshirt=True} \\mid \\text{MichielStoleBike = False, MichielWearsTshirt = False})$, there were 6 people who wore the T-shirt. Michiel was not one of them. Hence there were 6 people who could have been seen on camera while stealing the bike, hence 6/1000\n",
    "\n",
    "- For $\\Pr(\\text{CameraSeesTshirt=True} \\mid \\text{MichielStoleBike = False, MichielWearsTshirt = True})$, there were 6 people who wore the T-shirt. One of them was Michiel. Michiel didn't steal the bike, hence there were 5 people of of 1000 that wore the T-shirt that could have stolen the bike, hence 5/1000\n",
    "\n",
    "- For $\\Pr(\\text{CameraSeesTshirt=True} \\mid \\text{MichielStoleBike = True, MichielWearsTshirt = False})$, the camera always registers the shirt of the thief. If Michiel is the thief and didn't wear the T-shirt, this probability is 0.\n",
    "\n",
    "- For $\\Pr(\\text{CameraSeesTshirt=True} \\mid \\text{MichielStoleBike = True, MichielWearsTshirt = True})$, the camera always registers the shirt of the thief. If Michiel is the thief and did wear the T-shirt, this probability is 1.\n",
    "\n",
    "\n"
   ]
  },
  {
   "cell_type": "code",
   "execution_count": null,
   "metadata": {},
   "outputs": [],
   "source": [
    "bn=gum.BayesNet('suspectCamera')\n",
    "\n",
    "# step 1: creating three nodes\n",
    "MichielStoleBike=bn.add(gum.LabelizedVariable('MichielStoleBike','MichielStoleBike',2))\n",
    "CameraSeesTshirt=bn.add(gum.LabelizedVariable('CameraSeesTshirt','CameraSeesTshirt',2))\n",
    "MichielWearsTshirt=bn.add(gum.LabelizedVariable('MichielWearsTshirt','MichielWearsTshirt',2))\n",
    "\n",
    "# step 2: creating the arcs between the two nodes\n",
    "bn.addArc(MichielStoleBike, CameraSeesTshirt)\n",
    "bn.addArc(MichielWearsTshirt, CameraSeesTshirt)\n",
    "\n",
    "\n",
    "# step 3: specifying the probability tables\n",
    "\n",
    "# we assume that there were 1000 people who could have stolen the bike. Michiel is one of them.\n",
    "bn.cpt(\"MichielStoleBike\")[{}] = [0.999, 0.001]\n",
    "\n",
    "\n",
    "# we don't know what Michiel is wearing at the time of the theft.\n",
    "bn.cpt(\"MichielWearsTshirt\")[{}] = [0.5, 0.5]\n",
    "\n",
    "# CameraSeesTshirt table\n",
    "\n",
    "# if Michiel didn't steal the bike and didn't wear the T-shirt, \n",
    "# then there were 6 people out of 1000 who could have been seen by the camera while stealing the bike\n",
    "bn.cpt(\"CameraSeesTshirt\")[{\"MichielStoleBike\":0, \"MichielWearsTshirt\":0}] = [0.994, 0.006] \n",
    "\n",
    "# if Michiel didn't steal the bike and did wear the T-shirt, \n",
    "# then there were 5 out of 1000 other people who could have been seen by the camera while stealing the bike\n",
    "bn.cpt(\"CameraSeesTshirt\")[{\"MichielStoleBike\":0, \"MichielWearsTshirt\":1}] = [0.995, 0.005]\n",
    "\n",
    "\n",
    "# if Michiel did steal the bike and didn't wear the T-shirt, \n",
    "# then the camera wouldn't have seen the T-shirt on the thief\n",
    "bn.cpt(\"CameraSeesTshirt\")[{\"MichielStoleBike\":1, \"MichielWearsTshirt\":0}] = [1, 0]\n",
    "\n",
    "# if Michiel did steal the bike and did wear the T-shirt, \n",
    "# the camera must have seen the T-shirt\n",
    "bn.cpt(\"CameraSeesTshirt\")[{\"MichielStoleBike\":1, \"MichielWearsTshirt\":1}] = [0, 1] \n",
    "\n",
    "\n",
    "# show the network\n",
    "gnb.showInference(bn,evs={}) # we show the BN without any evidence set"
   ]
  },
  {
   "cell_type": "markdown",
   "metadata": {},
   "source": [
    "## Question 1: the network (5p)\n",
    "1a: Which node represents the evidence in this network? Explain in one sentence. (1p)\n",
    "\n",
    "\n",
    "\n",
    "1b: Which node represents a hypothesis about guilt in this network? Explain in one sentence. (1p)\n",
    "\n",
    "\n",
    "1c: What is the prior probability of the (true) hypothesis ($\\Pr(H)$)? And what is the prior probability of the false hypothesis ($\\Pr(\\lnot H)$)? (1p)\n",
    "\n",
    "\n",
    "1d: Would you know how many people wore \"the same type of T-shirt\" in a real life case? Give one reason why and one reason why you wouldn't be able to estimate this number. (2p)"
   ]
  },
  {
   "cell_type": "markdown",
   "metadata": {},
   "source": [
    "## Question 2: the posterior probability (5p)\n",
    "\n",
    "Now we want to reason with the evidence. We set the CameraSeenShirt to True (1), and to False (0) for demonstration, and see the posterior probability of MichielStoleBike change. In the networks below, nodes that represent set evidence are shown in orange."
   ]
  },
  {
   "cell_type": "code",
   "execution_count": null,
   "metadata": {},
   "outputs": [],
   "source": [
    "print(\"BN when we set that we saw on the camera that the tshirt was seen\")\n",
    "gnb.showInference(bn,evs={\"CameraSeesTshirt\":1})  \n",
    "print(\"BN when we set that we saw on the camera that the tshirt wasn't seen\")\n",
    "gnb.showInference(bn,evs={\"CameraSeesTshirt\":0})"
   ]
  },
  {
   "cell_type": "markdown",
   "metadata": {},
   "source": [
    "2a: By how much does the posterior change compared to the prior when we set the evidence to 1? (1p)\n",
    "\n",
    "\n",
    "2b: By how much does the posterior change compared to the prior when we set the evidence to 0? (1p)\n",
    "\n",
    "\n",
    "2c. The posterior probability of MichielStoleBike given positive evidence is not high. This is because we don't know whether Michiel is wearing the shirt or not. Now imagine that Michiel states \"I've worn that shirt the whole evening and at no point did I put on a sweater or coat or anything like that\". Now we can set MichielWearsTshirt to 1 (True). Run the code below. What is the resulting posterior probability of $\\Pr(\\text{MichielStoleBike = True} \\mid \\text{MichielWearsTshirt = True, CameraSeesTshirt=True})$ ? (1p)\n",
    "\n",
    "\n"
   ]
  },
  {
   "cell_type": "code",
   "execution_count": null,
   "metadata": {},
   "outputs": [],
   "source": [
    "gnb.showInference(bn,evs={\"CameraSeesTshirt\":1, \"MichielWearsTshirt\":1})\n"
   ]
  },
  {
   "cell_type": "markdown",
   "metadata": {},
   "source": [
    "\n",
    "2d. If you were a judge and you use this network to reason with, would you convict Michiel based on the posterior probability of MichielStoleBike now that we know he wore the T-shirt and the camera saw someone with the T-shirt steal the bike? Why or why not? (2p)\n",
    "\n"
   ]
  },
  {
   "cell_type": "markdown",
   "metadata": {},
   "source": [
    "## Question 3: Reasoning about credibility\n",
    "\n",
    "We interview some people close to the crime scene. Most of them don't remember anything, but a few of them do. In the end we find testimony by Annet. We trust Annet, and believe that if she says that Michiel stole the bike, he very probably (0.999) did it, and if she says he didn't, then he probably didn't do it.\n",
    "\n",
    "We add the new evidence of the testimony to the Bayesian Network."
   ]
  },
  {
   "cell_type": "code",
   "execution_count": null,
   "metadata": {},
   "outputs": [],
   "source": [
    "# re-run old network automatically\n",
    "bn=gum.BayesNet('suspectCamera')\n",
    "\n",
    "MichielStoleBike=bn.add(gum.LabelizedVariable('MichielStoleBike','MichielStoleBike',2))\n",
    "CameraSeesTshirt=bn.add(gum.LabelizedVariable('CameraSeesTshirt','CameraSeesTshirt',2))\n",
    "MichielWearsTshirt=bn.add(gum.LabelizedVariable('MichielWearsTshirt','MichielWearsTshirt',2))\n",
    "\n",
    "bn.addArc(MichielStoleBike, CameraSeesTshirt)\n",
    "bn.addArc(MichielWearsTshirt, CameraSeesTshirt)\n",
    "\n",
    "bn.cpt(\"MichielStoleBike\")[{}] = [0.999, 0.001]\n",
    "bn.cpt(\"MichielWearsTshirt\")[{}] = [0.5, 0.5]\n",
    "\n",
    "bn.cpt(\"CameraSeesTshirt\")[{\"MichielStoleBike\":0, \"MichielWearsTshirt\":0}] = [0.994, 0.006] \n",
    "bn.cpt(\"CameraSeesTshirt\")[{\"MichielStoleBike\":0, \"MichielWearsTshirt\":1}] = [0.995, 0.005]\n",
    "bn.cpt(\"CameraSeesTshirt\")[{\"MichielStoleBike\":1, \"MichielWearsTshirt\":0}] = [1, 0]\n",
    "bn.cpt(\"CameraSeesTshirt\")[{\"MichielStoleBike\":1, \"MichielWearsTshirt\":1}] = [0, 1] \n",
    "\n",
    "# show the network\n",
    "\n",
    "# new: adding testimony\n",
    "\n",
    "testimonyAnnet =bn.add(gum.LabelizedVariable('TestimonyAnnet','TestimonyAnnet',2))\n",
    "\n",
    "bn.addArc(MichielStoleBike, testimonyAnnet)\n",
    "\n",
    "\n",
    "bn.cpt(\"TestimonyAnnet\")[{\"MichielStoleBike\":0}] = [0.999, 0.001] \n",
    "bn.cpt(\"TestimonyAnnet\")[{\"MichielStoleBike\":1}] = [0.001, 0.999] \n"
   ]
  },
  {
   "cell_type": "code",
   "execution_count": null,
   "metadata": {},
   "outputs": [],
   "source": [
    "gnb.showInference(bn,evs={\"MichielWearsTshirt\":1, \"CameraSeesTshirt\":1, \"TestimonyAnnet\":1})\n",
    "gnb.showInference(bn,evs={\"MichielWearsTshirt\":1, \"CameraSeesTshirt\":1, \"TestimonyAnnet\":0})  "
   ]
  },
  {
   "cell_type": "markdown",
   "metadata": {},
   "source": [
    "### Question 3 Part 1 (5p)\n",
    "\n",
    "3a. We have added a new piece of evidence. When we assume CameraSeesTshirt is true, and MichielWearsTshirt is true, what is the posterior 1) when Annet states that they saw Michiel steal, and 2) when Annet states that they definitely didn't see Michiel steal? (2p)\n",
    "\n",
    "\n",
    "3b. Annet's statement of seeing Michiel steal should affect your belief in Michiel's guilt, compared to the situation in which we only have the camera as evidence. Would you now be willing to convict him? Explain why in one sentence (1p)\n",
    "\n",
    "\n",
    "3c. Now imagine that we do not know whether Michiel was wearing the T-shirt, but we do have Annet's testimony and the camera. What is the posterior probability of MichielStoleBike? What is the probability of MichielWearsTshirt? Explain qualitatively in a few sentences why MichielWearsTshirt has the value that it has. (2p)\n"
   ]
  },
  {
   "cell_type": "markdown",
   "metadata": {},
   "source": [
    "### Question 3 part 2 (7p)\n",
    "We now learn something new about Annet, which is that she might not be a credible witness. We can represent credibility using the credibility idiom (also known as the accuracy idiom):"
   ]
  },
  {
   "cell_type": "code",
   "execution_count": null,
   "metadata": {},
   "outputs": [],
   "source": [
    "credibilityAnnet =bn.add(gum.LabelizedVariable('CredibilityAnnet','CredibilityAnnet',2))\n",
    "\n",
    "bn.addArc(credibilityAnnet, testimonyAnnet)\n",
    "\n",
    "# initially, without any evidence, we don't know if A is credible or not.\n",
    "bn.cpt(\"CredibilityAnnet\")[{}] = [0.5, 0.5] \n",
    "\n",
    "# now we need to update the cpts of testimony A because we got a new parent\n",
    "# if A is credible, we keep having the same cpts\n",
    "bn.cpt(\"TestimonyAnnet\")[{\"MichielStoleBike\":0, \"CredibilityAnnet\":1}] = [0.999, 0.001] \n",
    "bn.cpt(\"TestimonyAnnet\")[{\"MichielStoleBike\":1, \"CredibilityAnnet\":1}] = [0.001, 0.999]  \n",
    "\n",
    "# if A is not credible, we do not trust anything they say.\n",
    "bn.cpt(\"TestimonyAnnet\")[{\"MichielStoleBike\":0, \"CredibilityAnnet\":0}] = [0.5, 0.5] \n",
    "bn.cpt(\"TestimonyAnnet\")[{\"MichielStoleBike\":1, \"CredibilityAnnet\":0}] = [0.5, 0.5] \n"
   ]
  },
  {
   "cell_type": "code",
   "execution_count": null,
   "metadata": {},
   "outputs": [],
   "source": [
    "gnb.showInference(bn,evs={})  \n"
   ]
  },
  {
   "cell_type": "markdown",
   "metadata": {},
   "source": [
    "3d: Give one reason that would make Annet an unreliable source. Does the lack of credibility of Annet help or hurt Michiel? (2p)\n",
    "\n",
    "\n",
    "3e: Set MichielWearsTshirt=True, CameraSeesTshirt=True. Imagine that we trust Annet's testimony that Michiel stole the bike and set the credibility node accordingly. What is now our posterior probability of guilt for Michiel? Is it the same as before we introduced the credibility node? (1p)\n",
    "\n",
    "\n",
    "3f: Set MichielWearsTshirt=True, CameraSeesTshirt=True. Now set the credibility of Annet to false. What is our posterior probabilty of guilt for Michiel? Describe the effect of the testimony of Annet on the posterior probability. (2p)\n",
    "\n",
    "\n",
    "3g: Change the CPT of Annet's testimony node such that when Annet's credibility is 0, we will actively believe the opposite of what Annet's saying (so if Annet says Michiel did it, he didn't do it, and vice versa). Explain the two different interpretations of \"credibility\" (2p)"
   ]
  },
  {
   "cell_type": "code",
   "execution_count": null,
   "metadata": {},
   "outputs": [],
   "source": [
    "#4e\n",
    "gnb.showInference(bn,evs={\"MichielWearsTshirt\": 1, \"CameraSeesTshirt\":1, \n",
    "                          \"CredibilityAnnet\":1, \"TestimonyAnnet\":1})\n",
    "#4f\n",
    "gnb.showInference(bn,evs={\"MichielWearsTshirt\": 1,\"CameraSeesTshirt\":1, \n",
    "                          \"CredibilityAnnet\":0, \"TestimonyAnnet\":1})"
   ]
  },
  {
   "cell_type": "code",
   "execution_count": null,
   "metadata": {},
   "outputs": [],
   "source": [
    "#4g\n",
    "# reverse credibility.\n",
    "\n",
    "# mixed up credibility\n",
    "bn.cpt(\"TestimonyAnnet\")[{\"MichielStoleBike\":0, \"CredibilityAnnet\":0}] = [0.001, 0.999] \n",
    "bn.cpt(\"TestimonyAnnet\")[{\"MichielStoleBike\":1, \"CredibilityAnnet\":0}] = [0.999, 0.001]\n",
    "\n",
    "\n",
    "gnb.showInference(bn,evs={\"CameraSeesTshirt\":1, \n",
    "                          \"CredibilityAnnet\":0, \"TestimonyAnnet\":1})\n",
    "\n",
    "gnb.showInference(bn,evs={\"CameraSeesTshirt\":1, \n",
    "                          \"CredibilityAnnet\":0, \"TestimonyAnnet\":0})\n"
   ]
  },
  {
   "cell_type": "markdown",
   "metadata": {},
   "source": [
    "## Question 4: Adding another piece of evidence (8p)\n",
    "\n",
    "Now imagine that you are taking over as detective. Imagine a relevant piece of evidence that you could find, that would either help or hurt the defendant. Add this piece of evidence to the network (you can choose to add it either with or without credibility idiom).\n",
    "\n",
    "1. Show the final model with evidence attached (2p)\n",
    "\n",
    "\n",
    "\n",
    "2. Explain (in no more than a paragraph) why you chose this piece of evidence. (2p)\n",
    "\n",
    "\n",
    "3. Explain (in no more than a paragraph) how you calculated, estimated, or otherwise produced the numbers. (2p)\n",
    "\n",
    "\n",
    "4. Explain (in no more than a paragraph) how setting the new piece of evidence affects the posterior probability of MichielStoleBike. (2p)\n"
   ]
  },
  {
   "cell_type": "markdown",
   "metadata": {},
   "source": [
    "## Question 5 (5p)\n",
    "\n",
    " Do you think we can use Bayesian Networks for real crime investigations? Why or why not? (~100 words)"
   ]
  },
  {
   "cell_type": "markdown",
   "metadata": {},
   "source": []
  },
  {
   "cell_type": "code",
   "execution_count": null,
   "metadata": {},
   "outputs": [],
   "source": []
  }
 ],
 "metadata": {
  "kernelspec": {
   "display_name": "Python 3 (ipykernel)",
   "language": "python",
   "name": "python3"
  },
  "language_info": {
   "codemirror_mode": {
    "name": "ipython",
    "version": 3
   },
   "file_extension": ".py",
   "mimetype": "text/x-python",
   "name": "python",
   "nbconvert_exporter": "python",
   "pygments_lexer": "ipython3",
   "version": "3.10.0"
  }
 },
 "nbformat": 4,
 "nbformat_minor": 4
}
